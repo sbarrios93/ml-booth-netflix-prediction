{
 "cells": [
  {
   "cell_type": "code",
   "execution_count": 59,
   "metadata": {},
   "outputs": [],
   "source": [
    "# enable loading from parent directory\n",
    "import sys\n",
    "sys.path.insert(0,'..')\n",
    "\n",
    "import typing\n",
    "import pandas as pd\n",
    "import numpy as np\n",
    "from sklearn.preprocessing import StandardScaler\n",
    "from datetime import datetime as dt"
   ]
  },
  {
   "cell_type": "code",
   "execution_count": 26,
   "metadata": {},
   "outputs": [],
   "source": [
    "# settings for loading csv file\n",
    "data_columns = [\"movie_id\", 'user_id', 'rating', 'timestamp']\n",
    "\n",
    "# we also need to drop columns that are on the csv as \"27,27:\", which are the beginning of a new movie, but do not contain user data. lets set this columns to \"-1\"\n",
    "\n",
    "def filter_movie_separator(val):\n",
    "    val_as_str = str(val)\n",
    "    \n",
    "    if \":\" in val_as_str:\n",
    "        return -1\n",
    "    else:\n",
    "        return val\n"
   ]
  },
  {
   "cell_type": "code",
   "execution_count": 28,
   "metadata": {},
   "outputs": [],
   "source": [
    "data = pd.read_csv('../data/parsed/parsed_combined_data_1.txt', names=['movie_id', 'user_id', 'rating', 'timestamp'], sep=',', header=None, skiprows=1, parse_dates=['timestamp'], converters={'user_id': filter_movie_separator})"
   ]
  },
  {
   "cell_type": "code",
   "execution_count": 44,
   "metadata": {},
   "outputs": [],
   "source": [
    "# drop columns where user_id is -1\n",
    "data = data.drop(data[data['user_id'] == -1].index)\n",
    "\n",
    "# make rating as np.int8, they were being loaded as floats by pandas\n",
    "data['rating'] = data['rating'].astype(np.int32)\n",
    "\n",
    "# downcast numeric values\n",
    "for col in data.columns:\n",
    "    if \"float\" in str(data[col].dtype):\n",
    "        data[col] = pd.to_numeric(data[col], downcast='float')\n",
    "    if \"int\" in str(data[col].dtype):\n",
    "        data[col] = pd.to_numeric(data[col], downcast='integer')\n",
    "    \n"
   ]
  },
  {
   "cell_type": "code",
   "execution_count": 82,
   "metadata": {},
   "outputs": [],
   "source": [
    "data['rating_adjusted'] = data.groupby('user_id')['rating'].transform(lambda x: StandardScaler(with_std=False).fit_transform(x.to_numpy().reshape(-1, 1)).reshape(-1))\n"
   ]
  },
  {
   "cell_type": "code",
   "execution_count": 53,
   "metadata": {},
   "outputs": [
    {
     "ename": "NameError",
     "evalue": "name 'x' is not defined",
     "output_type": "error",
     "traceback": [
      "\u001b[0;31m---------------------------------------------------------------------------\u001b[0m",
      "\u001b[0;31mNameError\u001b[0m                                 Traceback (most recent call last)",
      "\u001b[1;32m/Users/seba/code/machine-learning-booth-winter-2022/final-project/scratchpads/scratch.ipynb Cell 7'\u001b[0m in \u001b[0;36m<cell line: 1>\u001b[0;34m()\u001b[0m\n\u001b[0;32m----> <a href='vscode-notebook-cell:/Users/seba/code/machine-learning-booth-winter-2022/final-project/scratchpads/scratch.ipynb#ch0000008?line=0'>1</a>\u001b[0m x\n",
      "\u001b[0;31mNameError\u001b[0m: name 'x' is not defined"
     ]
    }
   ],
   "source": [
    "x"
   ]
  },
  {
   "cell_type": "code",
   "execution_count": null,
   "metadata": {},
   "outputs": [],
   "source": []
  }
 ],
 "metadata": {
  "interpreter": {
   "hash": "9eadede9313113549a88a10fda63b19260ddf070ab0828649b87fa7efdf293fa"
  },
  "kernelspec": {
   "display_name": "Python 3.9.10 64-bit ('ml-booth-netflix-final-project')",
   "language": "python",
   "name": "python3"
  },
  "language_info": {
   "codemirror_mode": {
    "name": "ipython",
    "version": 3
   },
   "file_extension": ".py",
   "mimetype": "text/x-python",
   "name": "python",
   "nbconvert_exporter": "python",
   "pygments_lexer": "ipython3",
   "version": "3.9.10"
  },
  "orig_nbformat": 4
 },
 "nbformat": 4,
 "nbformat_minor": 2
}
