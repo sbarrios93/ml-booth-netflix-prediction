{
 "cells": [
  {
   "cell_type": "code",
   "execution_count": 2,
   "metadata": {},
   "outputs": [],
   "source": [
    "# https://medium.com/@tomar.ankur287/user-user-collaborative-filtering-recommender-system-51f568489727\n",
    "\n",
    "import pandas as pd\n",
    "import numpy as np\n",
    "import math\n",
    "\n",
    "Ratings = pd.read_csv('data/parsed_combined_data_1.txt')\n",
    "\n"
   ]
  },
  {
   "cell_type": "code",
   "execution_count": 3,
   "metadata": {},
   "outputs": [],
   "source": [
    "Ratings.columns = ['movieId', 'userId', 'rating', 'timestamp']"
   ]
  },
  {
   "cell_type": "code",
   "execution_count": 4,
   "metadata": {},
   "outputs": [
    {
     "data": {
      "text/plain": [
       "24053763"
      ]
     },
     "execution_count": 4,
     "metadata": {},
     "output_type": "execute_result"
    }
   ],
   "source": [
    "len(Ratings)"
   ]
  },
  {
   "cell_type": "code",
   "execution_count": 5,
   "metadata": {},
   "outputs": [
    {
     "name": "stdout",
     "output_type": "stream",
     "text": [
      "470758\n",
      "4499\n"
     ]
    }
   ],
   "source": [
    "print(len(np.unique(Ratings['userId'])))\n",
    "print(len(np.unique(Ratings['movieId'])))"
   ]
  },
  {
   "cell_type": "code",
   "execution_count": 6,
   "metadata": {},
   "outputs": [
    {
     "data": {
      "text/plain": [
       "51.09581356025814"
      ]
     },
     "execution_count": 6,
     "metadata": {},
     "output_type": "execute_result"
    }
   ],
   "source": [
    "import statistics\n",
    "ratings_per_user = Ratings.groupby('userId')['rating'].count()\n",
    "statistics.mean(ratings_per_user.tolist())"
   ]
  },
  {
   "cell_type": "code",
   "execution_count": 7,
   "metadata": {},
   "outputs": [
    {
     "data": {
      "text/plain": [
       "<AxesSubplot:>"
      ]
     },
     "execution_count": 7,
     "metadata": {},
     "output_type": "execute_result"
    },
    {
     "data": {
      "image/png": "[encoded data removed]",
      "text/plain": [
       "<Figure size 432x288 with 1 Axes>"
      ]
     },
     "metadata": {
      "needs_background": "light"
     },
     "output_type": "display_data"
    }
   ],
   "source": [
    "import matplotlib.pyplot as plt\n",
    "%matplotlib inline\n",
    "ratings_per_user.hist(bins=100, range=(0,500))"
   ]
  },
  {
   "cell_type": "code",
   "execution_count": 8,
   "metadata": {},
   "outputs": [
    {
     "data": {
      "text/plain": [
       "5346.468770837964"
      ]
     },
     "execution_count": 8,
     "metadata": {},
     "output_type": "execute_result"
    }
   ],
   "source": [
    "ratings_per_movie = Ratings.groupby('movieId')['rating'].count()\n",
    "statistics.mean(ratings_per_movie.tolist())"
   ]
  },
  {
   "cell_type": "code",
   "execution_count": 9,
   "metadata": {},
   "outputs": [
    {
     "data": {
      "text/plain": [
       "<AxesSubplot:>"
      ]
     },
     "execution_count": 9,
     "metadata": {},
     "output_type": "execute_result"
    },
    {
     "data": {
      "image/png": "[encoded data removed]",
      "text/plain": [
       "<Figure size 432x288 with 1 Axes>"
      ]
     },
     "metadata": {
      "needs_background": "light"
     },
     "output_type": "display_data"
    }
   ],
   "source": [
    "import matplotlib.pyplot as plt\n",
    "%matplotlib inline\n",
    "ratings_per_movie.hist(bins=100, range=(0,2500))\n"
   ]
  },
  {
   "cell_type": "code",
   "execution_count": null,
   "metadata": {},
   "outputs": [],
   "source": [
    "rating_matrix = Ratings.pivot_table(index='userId', columns='movieId', values='rating')\n",
    "# replace NaN values with 0\n",
    "rating_matrix = rating_matrix.fillna(0)\n",
    "# display the top few rows\n",
    "rating_matrix.head()\n",
    "\n"
   ]
  },
  {
   "cell_type": "code",
   "execution_count": 28,
   "metadata": {},
   "outputs": [
    {
     "name": "stdout",
     "output_type": "stream",
     "text": [
      "Empty DataFrame\n",
      "Columns: [1, 2, 3, 4, 5, 6, 7, 8, 9, 10, 11, 12, 13, 14, 15, 16, 17, 18, 19, 20, 21, 22, 23, 24, 25, 26, 27, 28, 29, 30, 31, 32, 33, 34, 35, 36, 37, 38, 39, 40, 41, 42, 43, 44, 45, 46, 47, 48, 49, 50, 51, 52, 53, 54, 55, 56, 57, 58, 59, 60, 61, 62, 63, 64, 65, 66, 67, 68, 69, 70, 71, 72, 73, 74, 75, 76, 77, 78, 79, 80, 81, 82, 83, 84, 85, 86, 87, 88, 89, 90, 91, 92, 93, 94, 95, 96, 97, 98, 99, 100, ...]\n",
      "Index: []\n",
      "\n",
      "[0 rows x 4499 columns]\n",
      "movieId  1     2     3     4     5     6     7     8     9     10    ...  \\\n",
      "userId                                                               ...   \n",
      "1333      0.0   0.0   4.0   0.0   0.0   0.0   0.0   3.0   0.0   0.0  ...   \n",
      "3321      3.0   0.0   0.0   0.0   4.0   0.0   0.0   1.0   0.0   0.0  ...   \n",
      "3998      0.0   0.0   0.0   0.0   0.0   0.0   0.0   0.0   0.0   0.0  ...   \n",
      "5980      0.0   0.0   0.0   0.0   0.0   0.0   0.0   3.0   0.0   0.0  ...   \n",
      "10268     0.0   0.0   0.0   0.0   0.0   0.0   0.0   0.0   0.0   0.0  ...   \n",
      "...       ...   ...   ...   ...   ...   ...   ...   ...   ...   ...  ...   \n",
      "2637886   0.0   0.0   0.0   0.0   0.0   0.0   0.0   0.0   0.0   5.0  ...   \n",
      "2640278   0.0   0.0   0.0   0.0   0.0   0.0   0.0   0.0   3.0   0.0  ...   \n",
      "2640550   0.0   0.0   0.0   0.0   0.0   0.0   0.0   3.0   0.0   0.0  ...   \n",
      "2640760   0.0   0.0   0.0   0.0   0.0   0.0   0.0   0.0   0.0   0.0  ...   \n",
      "2645579   0.0   0.0   0.0   0.0   0.0   0.0   0.0   0.0   0.0   0.0  ...   \n",
      "\n",
      "movieId  4490  4491  4492  4493  4494  4495  4496  4497  4498  4499  \n",
      "userId                                                               \n",
      "1333      0.0   0.0   0.0   0.0   0.0   0.0   2.0   0.0   0.0   0.0  \n",
      "3321      0.0   0.0   0.0   0.0   0.0   0.0   0.0   0.0   0.0   0.0  \n",
      "3998      0.0   0.0   0.0   0.0   0.0   0.0   0.0   0.0   0.0   0.0  \n",
      "5980      0.0   0.0   0.0   5.0   0.0   0.0   0.0   0.0   0.0   0.0  \n",
      "10268     3.0   0.0   0.0   0.0   0.0   0.0   0.0   3.0   0.0   0.0  \n",
      "...       ...   ...   ...   ...   ...   ...   ...   ...   ...   ...  \n",
      "2637886   0.0   0.0   0.0   0.0   0.0   0.0   4.0   3.0   0.0   0.0  \n",
      "2640278   0.0   0.0   4.0   0.0   0.0   0.0   0.0   0.0   0.0   0.0  \n",
      "2640550   0.0   0.0   3.0   0.0   0.0   0.0   0.0   0.0   0.0   0.0  \n",
      "2640760   0.0   0.0   0.0   0.0   0.0   0.0   0.0   1.0   0.0   0.0  \n",
      "2645579   0.0   0.0   2.0   3.0   0.0   0.0   0.0   0.0   0.0   0.0  \n",
      "\n",
      "[1102 rows x 4499 columns]\n"
     ]
    },
    {
     "ename": "ValueError",
     "evalue": "Found array with 0 sample(s) (shape=(0, 4499)) while a minimum of 1 is required by check_pairwise_arrays.",
     "output_type": "error",
     "traceback": [
      "\u001b[0;31m---------------------------------------------------------------------------\u001b[0m",
      "\u001b[0;31mValueError\u001b[0m                                Traceback (most recent call last)",
      "Input \u001b[0;32mIn [28]\u001b[0m, in \u001b[0;36m<cell line: 34>\u001b[0;34m()\u001b[0m\n\u001b[1;32m     32\u001b[0m current_user \u001b[38;5;241m=\u001b[39m \u001b[38;5;241m1046323\u001b[39m\n\u001b[1;32m     33\u001b[0m \u001b[38;5;66;03m# try it out\u001b[39;00m\n\u001b[0;32m---> 34\u001b[0m similar_user_indices \u001b[38;5;241m=\u001b[39m \u001b[43msimilar_users\u001b[49m\u001b[43m(\u001b[49m\u001b[43mcurrent_user\u001b[49m\u001b[43m,\u001b[49m\u001b[43m \u001b[49m\u001b[43mrating_matrix\u001b[49m\u001b[43m)\u001b[49m\n\u001b[1;32m     35\u001b[0m \u001b[38;5;28mprint\u001b[39m(similar_user_indices)\n",
      "Input \u001b[0;32mIn [28]\u001b[0m, in \u001b[0;36msimilar_users\u001b[0;34m(user_id, matrix, k)\u001b[0m\n\u001b[1;32m      9\u001b[0m other_users \u001b[38;5;241m=\u001b[39m matrix[matrix\u001b[38;5;241m.\u001b[39mindex \u001b[38;5;241m!=\u001b[39m user_id]\n\u001b[1;32m     10\u001b[0m \u001b[38;5;28mprint\u001b[39m(other_users)\n\u001b[0;32m---> 11\u001b[0m \u001b[38;5;28mprint\u001b[39m(\u001b[43mcosine_similarity\u001b[49m\u001b[43m(\u001b[49m\u001b[43muser\u001b[49m\u001b[43m,\u001b[49m\u001b[43mother_users\u001b[49m\u001b[43m)\u001b[49m)\n\u001b[1;32m     13\u001b[0m \u001b[38;5;66;03m# calc cosine similarity between user and each other user\u001b[39;00m\n\u001b[1;32m     14\u001b[0m similarities \u001b[38;5;241m=\u001b[39m cosine_similarity(user,other_users)[\u001b[38;5;241m0\u001b[39m]\u001b[38;5;241m.\u001b[39mtolist()\n",
      "File \u001b[0;32m~/Desktop/booth/Q2/ML/final_project/.venv/lib/python3.9/site-packages/sklearn/metrics/pairwise.py:1251\u001b[0m, in \u001b[0;36mcosine_similarity\u001b[0;34m(X, Y, dense_output)\u001b[0m\n\u001b[1;32m   1217\u001b[0m \u001b[38;5;124;03m\"\"\"Compute cosine similarity between samples in X and Y.\u001b[39;00m\n\u001b[1;32m   1218\u001b[0m \n\u001b[1;32m   1219\u001b[0m \u001b[38;5;124;03mCosine similarity, or the cosine kernel, computes similarity as the\u001b[39;00m\n\u001b[0;32m   (...)\u001b[0m\n\u001b[1;32m   1247\u001b[0m \u001b[38;5;124;03mkernel matrix : ndarray of shape (n_samples_X, n_samples_Y)\u001b[39;00m\n\u001b[1;32m   1248\u001b[0m \u001b[38;5;124;03m\"\"\"\u001b[39;00m\n\u001b[1;32m   1249\u001b[0m \u001b[38;5;66;03m# to avoid recursive import\u001b[39;00m\n\u001b[0;32m-> 1251\u001b[0m X, Y \u001b[38;5;241m=\u001b[39m \u001b[43mcheck_pairwise_arrays\u001b[49m\u001b[43m(\u001b[49m\u001b[43mX\u001b[49m\u001b[43m,\u001b[49m\u001b[43m \u001b[49m\u001b[43mY\u001b[49m\u001b[43m)\u001b[49m\n\u001b[1;32m   1253\u001b[0m X_normalized \u001b[38;5;241m=\u001b[39m normalize(X, copy\u001b[38;5;241m=\u001b[39m\u001b[38;5;28;01mTrue\u001b[39;00m)\n\u001b[1;32m   1254\u001b[0m \u001b[38;5;28;01mif\u001b[39;00m X \u001b[38;5;129;01mis\u001b[39;00m Y:\n",
      "File \u001b[0;32m~/Desktop/booth/Q2/ML/final_project/.venv/lib/python3.9/site-packages/sklearn/metrics/pairwise.py:156\u001b[0m, in \u001b[0;36mcheck_pairwise_arrays\u001b[0;34m(X, Y, precomputed, dtype, accept_sparse, force_all_finite, copy)\u001b[0m\n\u001b[1;32m    147\u001b[0m     X \u001b[38;5;241m=\u001b[39m Y \u001b[38;5;241m=\u001b[39m check_array(\n\u001b[1;32m    148\u001b[0m         X,\n\u001b[1;32m    149\u001b[0m         accept_sparse\u001b[38;5;241m=\u001b[39maccept_sparse,\n\u001b[0;32m   (...)\u001b[0m\n\u001b[1;32m    153\u001b[0m         estimator\u001b[38;5;241m=\u001b[39mestimator,\n\u001b[1;32m    154\u001b[0m     )\n\u001b[1;32m    155\u001b[0m \u001b[38;5;28;01melse\u001b[39;00m:\n\u001b[0;32m--> 156\u001b[0m     X \u001b[38;5;241m=\u001b[39m \u001b[43mcheck_array\u001b[49m\u001b[43m(\u001b[49m\n\u001b[1;32m    157\u001b[0m \u001b[43m        \u001b[49m\u001b[43mX\u001b[49m\u001b[43m,\u001b[49m\n\u001b[1;32m    158\u001b[0m \u001b[43m        \u001b[49m\u001b[43maccept_sparse\u001b[49m\u001b[38;5;241;43m=\u001b[39;49m\u001b[43maccept_sparse\u001b[49m\u001b[43m,\u001b[49m\n\u001b[1;32m    159\u001b[0m \u001b[43m        \u001b[49m\u001b[43mdtype\u001b[49m\u001b[38;5;241;43m=\u001b[39;49m\u001b[43mdtype\u001b[49m\u001b[43m,\u001b[49m\n\u001b[1;32m    160\u001b[0m \u001b[43m        \u001b[49m\u001b[43mcopy\u001b[49m\u001b[38;5;241;43m=\u001b[39;49m\u001b[43mcopy\u001b[49m\u001b[43m,\u001b[49m\n\u001b[1;32m    161\u001b[0m \u001b[43m        \u001b[49m\u001b[43mforce_all_finite\u001b[49m\u001b[38;5;241;43m=\u001b[39;49m\u001b[43mforce_all_finite\u001b[49m\u001b[43m,\u001b[49m\n\u001b[1;32m    162\u001b[0m \u001b[43m        \u001b[49m\u001b[43mestimator\u001b[49m\u001b[38;5;241;43m=\u001b[39;49m\u001b[43mestimator\u001b[49m\u001b[43m,\u001b[49m\n\u001b[1;32m    163\u001b[0m \u001b[43m    \u001b[49m\u001b[43m)\u001b[49m\n\u001b[1;32m    164\u001b[0m     Y \u001b[38;5;241m=\u001b[39m check_array(\n\u001b[1;32m    165\u001b[0m         Y,\n\u001b[1;32m    166\u001b[0m         accept_sparse\u001b[38;5;241m=\u001b[39maccept_sparse,\n\u001b[0;32m   (...)\u001b[0m\n\u001b[1;32m    170\u001b[0m         estimator\u001b[38;5;241m=\u001b[39mestimator,\n\u001b[1;32m    171\u001b[0m     )\n\u001b[1;32m    173\u001b[0m \u001b[38;5;28;01mif\u001b[39;00m precomputed:\n",
      "File \u001b[0;32m~/Desktop/booth/Q2/ML/final_project/.venv/lib/python3.9/site-packages/sklearn/utils/validation.py:805\u001b[0m, in \u001b[0;36mcheck_array\u001b[0;34m(array, accept_sparse, accept_large_sparse, dtype, order, copy, force_all_finite, ensure_2d, allow_nd, ensure_min_samples, ensure_min_features, estimator)\u001b[0m\n\u001b[1;32m    803\u001b[0m     n_samples \u001b[38;5;241m=\u001b[39m _num_samples(array)\n\u001b[1;32m    804\u001b[0m     \u001b[38;5;28;01mif\u001b[39;00m n_samples \u001b[38;5;241m<\u001b[39m ensure_min_samples:\n\u001b[0;32m--> 805\u001b[0m         \u001b[38;5;28;01mraise\u001b[39;00m \u001b[38;5;167;01mValueError\u001b[39;00m(\n\u001b[1;32m    806\u001b[0m             \u001b[38;5;124m\"\u001b[39m\u001b[38;5;124mFound array with \u001b[39m\u001b[38;5;132;01m%d\u001b[39;00m\u001b[38;5;124m sample(s) (shape=\u001b[39m\u001b[38;5;132;01m%s\u001b[39;00m\u001b[38;5;124m) while a\u001b[39m\u001b[38;5;124m\"\u001b[39m\n\u001b[1;32m    807\u001b[0m             \u001b[38;5;124m\"\u001b[39m\u001b[38;5;124m minimum of \u001b[39m\u001b[38;5;132;01m%d\u001b[39;00m\u001b[38;5;124m is required\u001b[39m\u001b[38;5;132;01m%s\u001b[39;00m\u001b[38;5;124m.\u001b[39m\u001b[38;5;124m\"\u001b[39m\n\u001b[1;32m    808\u001b[0m             \u001b[38;5;241m%\u001b[39m (n_samples, array\u001b[38;5;241m.\u001b[39mshape, ensure_min_samples, context)\n\u001b[1;32m    809\u001b[0m         )\n\u001b[1;32m    811\u001b[0m \u001b[38;5;28;01mif\u001b[39;00m ensure_min_features \u001b[38;5;241m>\u001b[39m \u001b[38;5;241m0\u001b[39m \u001b[38;5;129;01mand\u001b[39;00m array\u001b[38;5;241m.\u001b[39mndim \u001b[38;5;241m==\u001b[39m \u001b[38;5;241m2\u001b[39m:\n\u001b[1;32m    812\u001b[0m     n_features \u001b[38;5;241m=\u001b[39m array\u001b[38;5;241m.\u001b[39mshape[\u001b[38;5;241m1\u001b[39m]\n",
      "\u001b[0;31mValueError\u001b[0m: Found array with 0 sample(s) (shape=(0, 4499)) while a minimum of 1 is required by check_pairwise_arrays."
     ]
    }
   ],
   "source": [
    "from sklearn.metrics.pairwise import cosine_similarity\n",
    "import operator\n",
    "def similar_users(user_id, matrix, k=3):\n",
    "    # create a df of just the current user\n",
    "    user = matrix[matrix.index == user_id]\n",
    "    print(user)\n",
    "    \n",
    "    # and a df of all other users\n",
    "    other_users = matrix[matrix.index != user_id]\n",
    "    print(other_users)\n",
    "    print(cosine_similarity(user,other_users))\n",
    "    \n",
    "    # calc cosine similarity between user and each other user\n",
    "    similarities = cosine_similarity(user,other_users)[0].tolist()\n",
    "    \n",
    "    # create list of indices of these users\n",
    "    indices = other_users.index.tolist()\n",
    "    \n",
    "    # create key/values pairs of user index and their similarity\n",
    "    index_similarity = dict(zip(indices, similarities))\n",
    "    \n",
    "    # sort by similarity\n",
    "    index_similarity_sorted = sorted(index_similarity.items(), key=operator.itemgetter(1))\n",
    "    index_similarity_sorted.reverse()\n",
    "    \n",
    "    # grab k users off the top\n",
    "    top_users_similarities = index_similarity_sorted[:k]\n",
    "    users = [u[0] for u in top_users_similarities]\n",
    "    \n",
    "    return users\n",
    "    \n",
    "current_user = 1046323\n",
    "# try it out\n",
    "similar_user_indices = similar_users(current_user, rating_matrix)\n",
    "print(similar_user_indices)\n",
    "#=> [30773, 39021, 45603]\n"
   ]
  },
  {
   "cell_type": "code",
   "execution_count": 1,
   "metadata": {},
   "outputs": [
    {
     "ename": "NameError",
     "evalue": "name 'rating_matrix' is not defined",
     "output_type": "error",
     "traceback": [
      "\u001b[0;31m---------------------------------------------------------------------------\u001b[0m",
      "\u001b[0;31mNameError\u001b[0m                                 Traceback (most recent call last)",
      "Input \u001b[0;32mIn [1]\u001b[0m, in \u001b[0;36m<cell line: 2>\u001b[0;34m()\u001b[0m\n\u001b[1;32m      1\u001b[0m current_user \u001b[38;5;241m=\u001b[39m \u001b[38;5;241m1046323\u001b[39m\n\u001b[0;32m----> 2\u001b[0m \u001b[38;5;28mprint\u001b[39m(\u001b[43mrating_matrix\u001b[49m[\u001b[38;5;241m1\u001b[39m])\n\u001b[1;32m      3\u001b[0m user \u001b[38;5;241m=\u001b[39m rating_matrix[rating_matrix\u001b[38;5;241m.\u001b[39mindex \u001b[38;5;241m==\u001b[39m current_user]\n\u001b[1;32m      4\u001b[0m user\n",
      "\u001b[0;31mNameError\u001b[0m: name 'rating_matrix' is not defined"
     ]
    }
   ],
   "source": [
    "current_user = 1046323\n",
    "print(rating_matrix[1])\n",
    "user = rating_matrix[rating_matrix.index == current_user]\n",
    "user"
   ]
  },
  {
   "cell_type": "code",
   "execution_count": 7,
   "metadata": {},
   "outputs": [],
   "source": []
  }
 ],
 "metadata": {
  "interpreter": {
   "hash": "e06b7807e26b171c2776e3a698a43118b45bcd5a5a4c069e4b27fdea839d488c"
  },
  "jupytext": {
   "formats": "ipynb,auto:light"
  },
  "kernelspec": {
   "display_name": "Python 3.9.8 64-bit ('.venv': venv)",
   "language": "python",
   "name": "python398jvsc74a57bd013068d0cd351cfa6a05ca7c7a83341947cd61b9c4e33c2a7b46ab21f01431632"
  },
  "language_info": {
   "codemirror_mode": {
    "name": "ipython",
    "version": 3
   },
   "file_extension": ".py",
   "mimetype": "text/x-python",
   "name": "python",
   "nbconvert_exporter": "python",
   "pygments_lexer": "ipython3",
   "version": "3.9.8"
  }
 },
 "nbformat": 4,
 "nbformat_minor": 4
}
